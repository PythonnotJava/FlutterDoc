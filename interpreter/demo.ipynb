{
 "cells": [
  {
   "cell_type": "code",
   "execution_count": 1,
   "metadata": {
    "collapsed": true,
    "ExecuteTime": {
     "end_time": "2023-06-05T08:16:03.924742800Z",
     "start_time": "2023-06-05T08:16:03.775712Z"
    }
   },
   "outputs": [
    {
     "data": {
      "text/plain": "array([[24, 27, 11],\n       [58, 71, 25],\n       [22, 26, 12]])"
     },
     "execution_count": 1,
     "metadata": {},
     "output_type": "execute_result"
    }
   ],
   "source": [
    "import numpy\n",
    "x = numpy.array(\n",
    "    [\n",
    "        [1, 4, 0],\n",
    "        [0, 1, -2],\n",
    "        [1, 3, 2]\n",
    "    ]\n",
    ")\n",
    "y = numpy.array(\n",
    "    [\n",
    "        [1, 0, 0],\n",
    "        [0,1, 0],\n",
    "        [1, -1, 0]\n",
    "    ]\n",
    ")\n",
    "x @ y"
   ]
  },
  {
   "cell_type": "code",
   "execution_count": null,
   "outputs": [],
   "source": [],
   "metadata": {
    "collapsed": false
   }
  }
 ],
 "metadata": {
  "kernelspec": {
   "display_name": "Python 3",
   "language": "python",
   "name": "python3"
  },
  "language_info": {
   "codemirror_mode": {
    "name": "ipython",
    "version": 2
   },
   "file_extension": ".py",
   "mimetype": "text/x-python",
   "name": "python",
   "nbconvert_exporter": "python",
   "pygments_lexer": "ipython2",
   "version": "2.7.6"
  }
 },
 "nbformat": 4,
 "nbformat_minor": 0
}
